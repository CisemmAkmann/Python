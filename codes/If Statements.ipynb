{
 "cells": [
  {
   "cell_type": "code",
   "execution_count": 1,
   "metadata": {},
   "outputs": [
    {
     "data": {
      "text/plain": [
       "True"
      ]
     },
     "execution_count": 1,
     "metadata": {},
     "output_type": "execute_result"
    }
   ],
   "source": [
    "3 > 1"
   ]
  },
  {
   "cell_type": "code",
   "execution_count": 3,
   "metadata": {},
   "outputs": [
    {
     "name": "stdout",
     "output_type": "stream",
     "text": [
      "Çisem Akman\n"
     ]
    }
   ],
   "source": [
    "if 3 > 1 :\n",
    "    print(\"Çisem Akman\") #if 3 bigger than 1 print Çisem Akman"
   ]
  },
  {
   "cell_type": "code",
   "execution_count": 6,
   "metadata": {},
   "outputs": [
    {
     "name": "stdout",
     "output_type": "stream",
     "text": [
      "out of if statement\n"
     ]
    }
   ],
   "source": [
    "if 3 > 4 :\n",
    "    print(\"Çisem Akman\") #3 not bigger than 4 so it didn't print Çisem Akman\n",
    "print(\"out of if statement\")"
   ]
  },
  {
   "cell_type": "code",
   "execution_count": 7,
   "metadata": {},
   "outputs": [],
   "source": [
    "x = 4\n",
    "y = 4"
   ]
  },
  {
   "cell_type": "code",
   "execution_count": 8,
   "metadata": {},
   "outputs": [],
   "source": [
    "if x > y :\n",
    "    print(\"x is bigger than y\")"
   ]
  },
  {
   "cell_type": "code",
   "execution_count": 9,
   "metadata": {},
   "outputs": [],
   "source": [
    "x = 5"
   ]
  },
  {
   "cell_type": "code",
   "execution_count": 12,
   "metadata": {},
   "outputs": [
    {
     "name": "stdout",
     "output_type": "stream",
     "text": [
      "x is bigger than y\n"
     ]
    }
   ],
   "source": [
    "if x > y :\n",
    "    print(\"x is bigger than y\") "
   ]
  },
  {
   "cell_type": "code",
   "execution_count": 14,
   "metadata": {},
   "outputs": [],
   "source": [
    "x = 4\n",
    "y = 4"
   ]
  },
  {
   "cell_type": "code",
   "execution_count": 15,
   "metadata": {},
   "outputs": [
    {
     "name": "stdout",
     "output_type": "stream",
     "text": [
      "x is equal to y\n"
     ]
    }
   ],
   "source": [
    "if x < y :\n",
    "    print(\"x is smaller than y\")\n",
    "elif x > y : \n",
    "    print(\"x is bigger than y\")\n",
    "else : \n",
    "    print(\"x is equal to y\")"
   ]
  },
  {
   "cell_type": "code",
   "execution_count": 16,
   "metadata": {},
   "outputs": [
    {
     "name": "stdout",
     "output_type": "stream",
     "text": [
      "choose a super hero: Batman\n"
     ]
    }
   ],
   "source": [
    "superHero  = input(\"choose a super hero: \")\"\""
   ]
  },
  {
   "cell_type": "code",
   "execution_count": 17,
   "metadata": {},
   "outputs": [
    {
     "name": "stdout",
     "output_type": "stream",
     "text": [
      "Congratulations !, you choose Batman\n"
     ]
    }
   ],
   "source": [
    "if superHero == \"Batman\" : \n",
    "    print(\"Congratulations !, you choose Batman\")\n",
    "elif superHero == \"Superman\":\n",
    "    print(\"Congratulations !, you choose Superman\")\n",
    "elif superHero == \"Ironman\":\n",
    "    print(\"Congratulations !, you choose Superman\")\n",
    "else : \n",
    "    print(\"please choose a superman from the list \")"
   ]
  },
  {
   "cell_type": "code",
   "execution_count": 20,
   "metadata": {},
   "outputs": [],
   "source": [
    "a = 10\n",
    "b = 20 \n",
    "c = 20"
   ]
  },
  {
   "cell_type": "code",
   "execution_count": 22,
   "metadata": {},
   "outputs": [
    {
     "name": "stdout",
     "output_type": "stream",
     "text": [
      "somethings wrong..\n"
     ]
    }
   ],
   "source": [
    "if a > b and b > c :\n",
    "    print(\"a is bigger than b and b is bigger than c\")\n",
    "elif a < b and b < c: \n",
    "    print(\"a is smaller than b and b is smaller than c\")\n",
    "else : \n",
    "    print(\"somethings wrong..\")"
   ]
  },
  {
   "cell_type": "code",
   "execution_count": 1,
   "metadata": {},
   "outputs": [],
   "source": [
    "liveCharachter = True\n"
   ]
  },
  {
   "cell_type": "code",
   "execution_count": 2,
   "metadata": {},
   "outputs": [
    {
     "name": "stdout",
     "output_type": "stream",
     "text": [
      "your game charachter live\n"
     ]
    }
   ],
   "source": [
    "if liveCharachter == True :\n",
    "    print(\"your game charachter live\")\n",
    "else:\n",
    "    print(\"your game charachter doesn't live\")"
   ]
  },
  {
   "cell_type": "code",
   "execution_count": 3,
   "metadata": {},
   "outputs": [
    {
     "name": "stdout",
     "output_type": "stream",
     "text": [
      "your game charachter live\n"
     ]
    }
   ],
   "source": [
    "if liveCharachter : # if true\n",
    "    print(\"your game charachter live\")\n",
    "else:\n",
    "    print(\"your game charachter doesn't live\")\n",
    "    "
   ]
  },
  {
   "cell_type": "code",
   "execution_count": 4,
   "metadata": {},
   "outputs": [],
   "source": [
    "if not liveCharachter : # if false\n",
    "    print(\"your game charachter doesn't live\")\n",
    "    "
   ]
  },
  {
   "cell_type": "code",
   "execution_count": 5,
   "metadata": {},
   "outputs": [],
   "source": [
    "myString = \"Çisem Akman\""
   ]
  },
  {
   "cell_type": "code",
   "execution_count": 6,
   "metadata": {},
   "outputs": [
    {
     "name": "stdout",
     "output_type": "stream",
     "text": [
      "it is not equal\n"
     ]
    }
   ],
   "source": [
    "if myString == \"çisem akman\" : \n",
    "    print(\"it is equal\")\n",
    "else : \n",
    "    print(\"it is not equal\")"
   ]
  },
  {
   "cell_type": "code",
   "execution_count": 7,
   "metadata": {},
   "outputs": [
    {
     "name": "stdout",
     "output_type": "stream",
     "text": [
      "there is\n"
     ]
    }
   ],
   "source": [
    "if \"Akman\" in myString : \n",
    "    print(\"there is\")\n",
    "else :\n",
    "    print(\"there is not\")"
   ]
  },
  {
   "cell_type": "code",
   "execution_count": 8,
   "metadata": {},
   "outputs": [
    {
     "name": "stdout",
     "output_type": "stream",
     "text": [
      "there is not\n"
     ]
    }
   ],
   "source": [
    "if \"akman\" in myString : \n",
    "    print(\"there is\")\n",
    "else :\n",
    "    print(\"there is not\")"
   ]
  },
  {
   "cell_type": "code",
   "execution_count": 9,
   "metadata": {},
   "outputs": [
    {
     "name": "stdout",
     "output_type": "stream",
     "text": [
      "there is\n"
     ]
    }
   ],
   "source": [
    "if \"man\" in myString : \n",
    "    print(\"there is\")\n",
    "else :\n",
    "    print(\"there is not\")"
   ]
  },
  {
   "cell_type": "code",
   "execution_count": 10,
   "metadata": {},
   "outputs": [],
   "source": [
    "myList = [10,20,30,40,50]"
   ]
  },
  {
   "cell_type": "code",
   "execution_count": 12,
   "metadata": {},
   "outputs": [
    {
     "name": "stdout",
     "output_type": "stream",
     "text": [
      "yes, there is\n"
     ]
    }
   ],
   "source": [
    "if 10 in myList:\n",
    "    print(\"yes, there is\")"
   ]
  },
  {
   "cell_type": "code",
   "execution_count": 13,
   "metadata": {},
   "outputs": [],
   "source": [
    "myDictionary = {\"banana\" : 100 , \"apple\" : 150, \"watermelon\":500}"
   ]
  },
  {
   "cell_type": "code",
   "execution_count": 15,
   "metadata": {},
   "outputs": [
    {
     "data": {
      "text/plain": [
       "dict_keys(['banana', 'apple', 'watermelon'])"
      ]
     },
     "execution_count": 15,
     "metadata": {},
     "output_type": "execute_result"
    }
   ],
   "source": [
    "myDictionary.keys()"
   ]
  },
  {
   "cell_type": "code",
   "execution_count": 16,
   "metadata": {},
   "outputs": [
    {
     "name": "stdout",
     "output_type": "stream",
     "text": [
      "yes, there is\n"
     ]
    }
   ],
   "source": [
    "if \"banana\" in myDictionary.keys(): \n",
    "      print(\"yes, there is\")"
   ]
  },
  {
   "cell_type": "code",
   "execution_count": 17,
   "metadata": {},
   "outputs": [
    {
     "name": "stdout",
     "output_type": "stream",
     "text": [
      "yes, there is\n"
     ]
    }
   ],
   "source": [
    "if 500 in myDictionary.values():\n",
    "      print(\"yes, there is\")"
   ]
  },
  {
   "cell_type": "code",
   "execution_count": null,
   "metadata": {},
   "outputs": [],
   "source": []
  }
 ],
 "metadata": {
  "kernelspec": {
   "display_name": "Python 3",
   "language": "python",
   "name": "python3"
  },
  "language_info": {
   "codemirror_mode": {
    "name": "ipython",
    "version": 3
   },
   "file_extension": ".py",
   "mimetype": "text/x-python",
   "name": "python",
   "nbconvert_exporter": "python",
   "pygments_lexer": "ipython3",
   "version": "3.7.4"
  }
 },
 "nbformat": 4,
 "nbformat_minor": 4
}
